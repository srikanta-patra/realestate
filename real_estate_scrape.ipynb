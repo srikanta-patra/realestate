{
 "cells": [
  {
   "cell_type": "code",
   "execution_count": 1,
   "metadata": {
    "collapsed": true
   },
   "outputs": [],
   "source": [
    "from selenium import webdriver\n",
    "from selenium.webdriver.common.keys import Keys\n",
    "from bs4 import BeautifulSoup\n",
    "import urllib\n",
    "import pandas as pd\n",
    "import re\n",
    "import numpy as np\n",
    "import requests"
   ]
  },
  {
   "cell_type": "code",
   "execution_count": 2,
   "metadata": {
    "collapsed": false
   },
   "outputs": [],
   "source": [
    "df_school = pd.read_csv('./datasets/nswschools.csv')\n",
    "df_suburbs = pd.read_csv('./datasets/SydneyMetro_Postcodes.csv')"
   ]
  },
  {
   "cell_type": "code",
   "execution_count": null,
   "metadata": {
    "collapsed": true
   },
   "outputs": [],
   "source": []
  },
  {
   "cell_type": "code",
   "execution_count": null,
   "metadata": {
    "collapsed": false
   },
   "outputs": [],
   "source": []
  },
  {
   "cell_type": "code",
   "execution_count": null,
   "metadata": {
    "collapsed": false
   },
   "outputs": [],
   "source": [
    "# print (df_school.head())\n",
    "# print(df_suburbs.head())\n",
    "# print (df_school.columns)\n",
    "# print (df_suburbs.columns)\n",
    "# df_school.head(3)\n",
    "# df_school.ASGS_remoteness.unique()\n",
    "print (df_school[df_school['school_name'].str.contains('Bert')].T)\n",
    "#df_school.aecg_region.value_counts\n",
    "df_school.head()"
   ]
  },
  {
   "cell_type": "code",
   "execution_count": 36,
   "metadata": {
    "collapsed": false
   },
   "outputs": [],
   "source": [
    "#setup driver and open the realestate.com.au website\n",
    "def open_website(chrome_driver, website, assert_text):\n",
    "    driver = webdriver.Chrome(executable_path=\"chrome_driver\")\n",
    "    driver.get(website)\n",
    "    assert assert_text in driver.title\n",
    "    return driver\n",
    "\n",
    "# Request the resource from google maps\n",
    "def get_geocodes(addr):\n",
    "    result = requests.get(\"https://maps.googleapis.com/maps/api/geocode/json?address=\" + addr.replace(\" \", \"+\"))\n",
    "    google_result = result.json()\n",
    "    # Loop through results and display lat, lon values for reverse geocode\n",
    "    for item in google_result['results']:\n",
    "        location= item['geometry']['location']\n",
    "    return location\n",
    "\n",
    "#scrape individual page\n",
    "def scrape_page(html):\n",
    "    address = []\n",
    "    latitude = []\n",
    "    longitude = []\n",
    "\n",
    "    bedroom = []\n",
    "    bathroom = []\n",
    "    carpark = []\n",
    "\n",
    "    price= []\n",
    "\n",
    "    html = driver.page_source\n",
    "    html = BeautifulSoup(html, 'lxml')\n",
    "    \n",
    "    for itm in html.find_all('p', {'class':'priceText'}):\n",
    "        print (itm.text)\n",
    "        if itm.text.find('$')>=0:\n",
    "            if itm.text.find(' to ') >= 0:\n",
    "                prc = re.findall(r'\\d+(?:,\\d+)?',itm.text)\n",
    "                prc = [x.replace(',','') for x in prc]\n",
    "                price.append(np.mean(list(map(int, prc))))\n",
    "            else:\n",
    "                prc = re.findall(r'\\d+(?:,\\d+)?',itm.text)\n",
    "                if len(prc) != 0:\n",
    "                    prc = [x.replace(',','') for x in prc]\n",
    "                    price.append(int(prc[0]))\n",
    "                else:\n",
    "                    price.append(0)\n",
    "        else:\n",
    "            price.append(0)\n",
    "\n",
    "    for itm in html.find_all('a', {'class':'name'}):\n",
    "        address_str = itm.text\n",
    "        if address_str.find('available on request') == -1:\n",
    "            geo_codes = get_geocodes (itm.text)\n",
    "            latitude.append(geo_codes['lat'])\n",
    "            longitude.append(geo_codes['lng'])\n",
    "            address.append(itm.text)  \n",
    "        else:\n",
    "            latitude.append('NA')\n",
    "            longitude.append('NA')\n",
    "            address.append('NA')  \n",
    "            \n",
    "    for itm in html.find_all('dl', {'class':'rui-property-features rui-clearfix'}):\n",
    "        rooms = re.findall('\\d+', itm.text)\n",
    "        rooms = list(map(int, rooms))\n",
    "        rooms = rooms+[0]*(3-len(rooms))\n",
    "        bedroom.append (rooms[0])\n",
    "        bathroom.append(rooms[1])\n",
    "        carpark.append(rooms[2])\n",
    "    result = {'address': address,'bedroom': bedroom,'bathroom': bathroom, 'carpark':carpark, 'price': price, 'latitude': latitude, 'longitude': longitude}\n",
    "    return result"
   ]
  },
  {
   "cell_type": "code",
   "execution_count": 30,
   "metadata": {
    "collapsed": false
   },
   "outputs": [],
   "source": [
    "def main(driver):\n",
    "    i = 0\n",
    "    #create empty \"house dataframe\" and keep appending as you scrape pages and fetch data\n",
    "    cols  = ['address','bedroom','bathroom', 'carpark', 'price', 'latitude', 'longitude']\n",
    "    house_df  = pd.DataFrame(columns=cols)\n",
    "    \n",
    "    #keeping 10 suburbs for now .... should be changed to len(df_suburb)\n",
    "    \n",
    "    while i <= 10:\n",
    "        elem = driver.find_element_by_name(\"where\")\n",
    "        elem.clear()\n",
    "        print (df_suburbs.suburb.iloc[i] + \", \" + df_suburbs.state.iloc[i] + \" \" + str(df_suburbs.postcode.iloc[i]))\n",
    "        print (i)\n",
    "        elem.send_keys(df_suburbs.suburb.iloc[i] + \", \" + df_suburbs.state.iloc[i] + \" \" + str(df_suburbs.postcode.iloc[i]))\n",
    "\n",
    "        elem.send_keys(Keys.RETURN)\n",
    "        assert \"No results found.\" not in driver.page_source\n",
    "        result = scrape_page(driver)\n",
    "        new_df = pd.DataFrame.from_dict(result)\n",
    "        house_df = house_df.append(new_df, ignore_index = True)\n",
    "        #clear result\n",
    "        result = {}\n",
    "        #check if Next Page exists for this suburb\n",
    "        #print (driver.find_element_by_partial_link_text (\"Next\"))\n",
    "        while driver.find_element_by_partial_link_text (\"Next\") != '':\n",
    "            driver.find_element_by_partial_link_text (\"Next\").click()\n",
    "            result = scrape_page(driver)\n",
    "            new_df = pd.DataFrame.from_dict(result)\n",
    "            house_df = house_df.append(new_df, ignore_index = True)\n",
    "            #clear result\n",
    "            result = {}\n",
    "        i +=1\n",
    "    return house_df"
   ]
  },
  {
   "cell_type": "code",
   "execution_count": 31,
   "metadata": {
    "collapsed": false
   },
   "outputs": [],
   "source": [
    "driver = open_website(\"./chromedriver/chromedriver\",\"Real Estate\", \"https://www.realestate.com.au/rent\")"
   ]
  },
  {
   "cell_type": "code",
   "execution_count": 35,
   "metadata": {
    "collapsed": false
   },
   "outputs": [],
   "source": [
    "#house_df = main(driver)\n",
    "\n",
    "#print (driver.find_element_by_partial_link_text (\"Next\"))"
   ]
  },
  {
   "cell_type": "code",
   "execution_count": 69,
   "metadata": {
    "collapsed": false
   },
   "outputs": [
    {
     "name": "stdout",
     "output_type": "stream",
     "text": [
      "$1,300 per week\n",
      "$680 PW\n",
      "$1795 PW\n",
      "$1,650 per week\n",
      "$5,800 per week\n",
      "$620\n",
      "$840\n",
      "$725\n",
      "$850.00\n",
      "$705pw\n",
      "$760 per week\n",
      "$600 per week\n",
      "$795pw\n",
      "$560\n",
      "$895pw\n",
      "$695pw\n",
      "$730\n",
      "$1,800 per week\n",
      "$690\n",
      "$775\n",
      "$1,650 per week\n",
      "$750 per week\n",
      "{'address': ['NA', '85-87 Kent Street, Sydney, NSW 2000', '161 Kent Street, Sydney, NSW 2000', 'NA', '28 B / 171 Gloucester Street, Sydney, NSW 2000', '45 Shelley Street, Sydney, NSW 2000', '708/168 Kent Street, Sydney, NSW 2000', '602/5 York Street, Sydney, NSW 2000', '305/45 Shelley Street, Sydney, NSW 2000', '85-87 Kent Street, Sydney, NSW 2000', '712/168 Kent Street, Sydney, NSW 2000', '37-43 King Street, Sydney, NSW 2000', '22  Sir John Young Crescent, Sydney, NSW 2000', '1 Hosking Place, Sydney, NSW 2000', '87 Cathedral Street, Sydney, NSW 2000', '85-87 Kent Street, Sydney, NSW 2000', '98 Gloucester Street, Sydney, NSW 2000', '25 Barangaroo Ave, Sydney, NSW 2000', '1 Hosking Place, Sydney, NSW 2000', '1307/168 Kent Street, Sydney, NSW 2000', 'NA', 'B301/6-8  Shout Ridge'], 'bedroom': [2, 1, 3, 2, 4, 1, 1, 1, 2, 1, 1, 1, 1, 1, 1, 1, 1, 2, 1, 1, 2, 2], 'bathroom': [2, 1, 3, 2, 4, 1, 1, 1, 2, 1, 1, 1, 1, 1, 1, 1, 1, 2, 1, 1, 2, 2], 'carpark': [2, 0, 1, 1, 3, 1, 1, 0, 1, 0, 1, 0, 0, 0, 1, 0, 0, 1, 0, 1, 1, 2], 'price': [1300, 680, 1795, 1650, 5800, 620, 840, 725, 850, 705, 760, 600, 795, 560, 895, 695, 730, 1800, 690, 775, 1650, 750], 'latitude': ['NA', -33.85984380000001, -33.8623047, 'NA', -33.8623713, -33.8681676, -33.8622257, -33.864542, -33.8681676, -33.85984380000001, -33.8622257, -33.8689533, -33.8709838, -33.8670098, -33.8725989, -33.85984380000001, -33.8616923, -33.8642886, -33.8670098, -33.8622257, 'NA', -35.3599802], 'longitude': ['NA', 151.2034014, 151.2035863, 'NA', 151.2059587, 151.2022712, 151.2045953, 151.2051287, 151.2022712, 151.2034014, 151.2045953, 151.2042688, 151.2174098, 151.2093406, 151.2161475, 151.2034014, 151.2069393, 151.2015742, 151.2093406, 151.2045953, 'NA', 149.0806644]}\n"
     ]
    }
   ],
   "source": [
    "driver = webdriver.Chrome(executable_path=\"./chromedriver/chromedriver\")\n",
    "driver.get(\"http://www.realestate.com.au/rent/in-sydney+city%3b+nsw+2000/list-1\")\n",
    "result = scrape_page(driver)\n",
    "print (result)\n",
    "# update_df (result, house_df)\n",
    "# new_df = pd.DataFrame.from_dict(result)\n",
    "# house_df = house_df.append(new_df, ignore_index = True)\n"
   ]
  },
  {
   "cell_type": "code",
   "execution_count": 81,
   "metadata": {
    "collapsed": false
   },
   "outputs": [
    {
     "name": "stdout",
     "output_type": "stream",
     "text": [
      "[1300, 680, 1795, 1650, 5800, 620, 840, 725, 850, 705, 760, 600, 795, 560, 895, 695, 730, 1800, 690, 775, 1650, 750]\n",
      "['NA', '85-87 Kent Street, Sydney, NSW 2000', '161 Kent Street, Sydney, NSW 2000', 'NA', '28 B / 171 Gloucester Street, Sydney, NSW 2000', '45 Shelley Street, Sydney, NSW 2000', '708/168 Kent Street, Sydney, NSW 2000', '602/5 York Street, Sydney, NSW 2000', '305/45 Shelley Street, Sydney, NSW 2000', '85-87 Kent Street, Sydney, NSW 2000', '712/168 Kent Street, Sydney, NSW 2000', '37-43 King Street, Sydney, NSW 2000', '22  Sir John Young Crescent, Sydney, NSW 2000', '1 Hosking Place, Sydney, NSW 2000', '87 Cathedral Street, Sydney, NSW 2000', '85-87 Kent Street, Sydney, NSW 2000', '98 Gloucester Street, Sydney, NSW 2000', '25 Barangaroo Ave, Sydney, NSW 2000', '1 Hosking Place, Sydney, NSW 2000', '1307/168 Kent Street, Sydney, NSW 2000', 'NA', 'B301/6-8  Shout Ridge']\n"
     ]
    }
   ],
   "source": [
    "#mydict = {'address': ['5303/91 Liverpool Street, Sydney, NSW 2000', '1303A/148 Elizabeth Street, Sydney, NSW 2000', '1103/61 Macquarie Street, Sydney, NSW 2000', '38 Bridge Street, Sydney, NSW 2000', '361 Kent Street, Sydney, NSW 2000', '3612/91 Liverpool Street, Sydney, NSW 2000', '88/361 Kent Street, Sydney, NSW 2000', '45 Shelley Street, Sydney, NSW 2000', 'CBD Penthouse for RENT, Sydney, NSW 2000', '103/38 Hickson Road, Millers Point, NSW 2000', '201/19 Barangaroo Avenue, Barangaroo, NSW 2000', '2911/91-95 Liverpool St, Sydney, NSW 2000', 'NA', 'NA', 'NA', '298 Sussex Street, Sydney, NSW 2000', '2707/187 Liverpool Street, Sydney, NSW 2000', '168 Kent Street, Sydney, NSW 2000', '37-43 King Street, Sydney, NSW 2000', '302/21 Alberta Street, Sydney, NSW 2000', 'NA', 'NA'], 'bedroom': [2, 1, 2, 1, 1, 1, 2, 1, 3, 2, 2, 1, 1, 2, 1, 1, 2, 1, 1, 1, 2, 1], 'bathroom': [2, 1, 2, 0, 0, 1, 2, 1, 4, 2, 2, 1, 1, 2, 1, 1, 2, 1, 1, 1, 2, 1], 'carpark': [1, 0, 1, 0, 0, 1, 1, 0, 2, 1, 1, 1, 0, 1, 1, 1, 1, 1, 0, 0, 2, 1], 'price': [1250, 575, 2350, 545, 595, 820, 920, 795, 1800, 1200, 0, 750, 900, 1250, 840, 785, 1020, 725, 700, 620, 1300, 700], 'latitude': [-33.877274, -33.8777167, -33.8608496, -33.8632738, -33.8692736, -33.877274, -33.8692736, -33.8681676, -33.876613, -33.8605081, -33.864252, -33.877274, 'NA', 'NA', 'NA', -33.8744294, -33.8770938, -33.8622019, -33.8689533, -33.8779375, 'NA', 'NA'], 'longitude': [151.2066911, 151.2098177, 151.2129165, 151.2106721, 151.2043244, 151.2066911, 151.2043244, 151.2022712, 151.206883, 151.2026932, 151.2015689, 151.2066911, 'NA', 'NA', 'NA', 151.204579, 151.2115025, 151.203817, 151.2042688, 151.2105307, 'NA', 'NA']}\n",
    "# for k,v in result.items():\n",
    "#     print (len(v))\n",
    "# type(mydict)\n",
    "# mydict.keys['address']\n",
    "print (result['price'])\n",
    "print(result['address'])"
   ]
  },
  {
   "cell_type": "code",
   "execution_count": 34,
   "metadata": {
    "collapsed": false
   },
   "outputs": [
    {
     "ename": "NameError",
     "evalue": "name 'house_df' is not defined",
     "output_type": "error",
     "traceback": [
      "\u001b[0;31m---------------------------------------------------------------------------\u001b[0m",
      "\u001b[0;31mNameError\u001b[0m                                 Traceback (most recent call last)",
      "\u001b[0;32m<ipython-input-34-1602df727272>\u001b[0m in \u001b[0;36m<module>\u001b[0;34m()\u001b[0m\n\u001b[0;32m----> 1\u001b[0;31m \u001b[0mhouse_df\u001b[0m\u001b[0;34m.\u001b[0m\u001b[0mto_csv\u001b[0m\u001b[0;34m(\u001b[0m\u001b[0;34m'./scraped.csv'\u001b[0m\u001b[0;34m,\u001b[0m \u001b[0mmode\u001b[0m\u001b[0;34m=\u001b[0m\u001b[0;34m'a'\u001b[0m\u001b[0;34m,\u001b[0m \u001b[0mindex\u001b[0m\u001b[0;34m=\u001b[0m\u001b[0;32mFalse\u001b[0m\u001b[0;34m)\u001b[0m\u001b[0;34m\u001b[0m\u001b[0m\n\u001b[0m",
      "\u001b[0;31mNameError\u001b[0m: name 'house_df' is not defined"
     ]
    }
   ],
   "source": [
    "house_df.to_csv('./scraped.csv', mode='a', index=False)\n"
   ]
  },
  {
   "cell_type": "code",
   "execution_count": 19,
   "metadata": {
    "collapsed": false
   },
   "outputs": [
    {
     "name": "stdout",
     "output_type": "stream",
     "text": [
      "<class 'pandas.core.frame.DataFrame'>\n",
      "RangeIndex: 202 entries, 0 to 201\n",
      "Data columns (total 3 columns):\n",
      "suburb      202 non-null object\n",
      "state       202 non-null object\n",
      "postcode    202 non-null int64\n",
      "dtypes: int64(1), object(2)\n",
      "memory usage: 4.8+ KB\n"
     ]
    }
   ],
   "source": [
    "df_suburbs.info()\n",
    "\n"
   ]
  },
  {
   "cell_type": "code",
   "execution_count": 216,
   "metadata": {
    "collapsed": false,
    "scrolled": false
   },
   "outputs": [
    {
     "data": {
      "text/plain": [
       "21"
      ]
     },
     "execution_count": 216,
     "metadata": {},
     "output_type": "execute_result"
    }
   ],
   "source": [
    "len( ['504/720 George Street, Haymarket, NSW 2000', '298 Sussex Street, Sydney, NSW 2000', '308 Pitt Street, Sydney, NSW 2000', '21A Hickson Road, Walsh Bay, NSW 2000', '569 George Street, Sydney, NSW 2000', '2201/91 Liverpool St, Sydney, NSW 2000', 'Level 6/336 Sussex Street, Sydney, NSW 2000', '38 Kent Street, Millers Point, NSW 2000', '106 King Street, Sydney, NSW 2000', '3603/343 Pitt Street, Sydney, NSW 2000', '226/398-408 Pitt Street, Sydney, NSW 2000', 'Level 18/28 Harbour Street, Sydney, NSW 2000', 'Level 8/178 Thomas Street, Sydney, NSW 2000', 'CAR SPACE/2 Bond Street, Sydney, NSW 2000', '612B/317-321 Castlreagh Street, Sydney, NSW 2000', '2 Hay Street, Haymarket, NSW 2000', '507/50 Murray Street, Sydney, NSW 2000', '2-8 Dixon Street, Sydney, NSW 2000', 'NA', '411/27 Park Street, Sydney, NSW 2000', 'NA', 'NA'])\n",
    "len([1, 660, 1, 1, 900, 700, 850, 1, 1, 860, 1, 850, 100, 440, 1, 850, 480, 1350, 550, 700, 700])\n",
    "len([2, 1, 3, 3, 2, 1, 2, 3, 2, 2, 3, 2, 1, 1, 1, 2, 2, 1, 2, 1, 2, 1])\n",
    "len([550, 1300, 1000, 660, 1500, 1600, 900, 700, 850, 1200, 1600, 860, 1545, 850, 100, 440, 1150, 850, 480, 815.0, 900])\n"
   ]
  },
  {
   "cell_type": "code",
   "execution_count": 33,
   "metadata": {
    "collapsed": false
   },
   "outputs": [],
   "source": [
    "!rm './scraped.csv'"
   ]
  },
  {
   "cell_type": "code",
   "execution_count": 212,
   "metadata": {
    "collapsed": false
   },
   "outputs": [
    {
     "name": "stdout",
     "output_type": "stream",
     "text": [
      "['100000', '100500']\n"
     ]
    }
   ],
   "source": [
    "l = re.findall(pattern=r'\\d+(?:,\\d+)?', string = '$100,000 to $100,500')\n",
    "l = [x.replace(',','') for x in l]\n",
    "print (l)"
   ]
  },
  {
   "cell_type": "code",
   "execution_count": 43,
   "metadata": {
    "collapsed": false
   },
   "outputs": [
    {
     "name": "stdout",
     "output_type": "stream",
     "text": [
      "[<dl class=\"rui-property-features rui-clearfix\"><dt class=\"rui-icon rui-icon-bed\"><span class=\"rui-visuallyhidden\">Bedrooms</span></dt> <dd>1</dd> <dt class=\"rui-icon rui-icon-bath\"><span class=\"rui-visuallyhidden\">Bathrooms</span></dt> <dd>1</dd> <dt class=\"rui-icon rui-icon-car\"><span class=\"rui-visuallyhidden\">Car Spaces</span></dt> <dd>1</dd></dl>, <dl class=\"rui-property-features rui-clearfix\"><dt class=\"rui-icon rui-icon-bed\"><span class=\"rui-visuallyhidden\">Bedrooms</span></dt> <dd>2</dd> <dt class=\"rui-icon rui-icon-bath\"><span class=\"rui-visuallyhidden\">Bathrooms</span></dt> <dd>2</dd> <dt class=\"rui-icon rui-icon-car\"><span class=\"rui-visuallyhidden\">Car Spaces</span></dt> <dd>1</dd></dl>, <dl class=\"rui-property-features rui-clearfix\"><dt class=\"rui-icon rui-icon-bed\"><span class=\"rui-visuallyhidden\">Bedrooms</span></dt> <dd>2</dd> <dt class=\"rui-icon rui-icon-bath\"><span class=\"rui-visuallyhidden\">Bathrooms</span></dt> <dd>2</dd> <dt class=\"rui-icon rui-icon-car\"><span class=\"rui-visuallyhidden\">Car Spaces</span></dt> <dd>1</dd></dl>, <dl class=\"rui-property-features rui-clearfix\"><dt class=\"rui-icon rui-icon-bath\"><span class=\"rui-visuallyhidden\">Bathrooms</span></dt> <dd>1</dd> <dt class=\"rui-icon rui-icon-car\"><span class=\"rui-visuallyhidden\">Car Spaces</span></dt> <dd>1</dd></dl>, <dl class=\"rui-property-features rui-clearfix\"><dt class=\"rui-icon rui-icon-bed\"><span class=\"rui-visuallyhidden\">Bedrooms</span></dt> <dd>2</dd> <dt class=\"rui-icon rui-icon-bath\"><span class=\"rui-visuallyhidden\">Bathrooms</span></dt> <dd>2</dd> <dt class=\"rui-icon rui-icon-car\"><span class=\"rui-visuallyhidden\">Car Spaces</span></dt> <dd>1</dd></dl>, <dl class=\"rui-property-features rui-clearfix\"><dt class=\"rui-icon rui-icon-bed\"><span class=\"rui-visuallyhidden\">Bedrooms</span></dt> <dd>1</dd> <dt class=\"rui-icon rui-icon-bath\"><span class=\"rui-visuallyhidden\">Bathrooms</span></dt> <dd>1</dd> <dt class=\"rui-icon rui-icon-car\"><span class=\"rui-visuallyhidden\">Car Spaces</span></dt> <dd>1</dd></dl>, <dl class=\"rui-property-features rui-clearfix\"><dt class=\"rui-icon rui-icon-bed\"><span class=\"rui-visuallyhidden\">Bedrooms</span></dt> <dd>1</dd> <dt class=\"rui-icon rui-icon-bath\"><span class=\"rui-visuallyhidden\">Bathrooms</span></dt> <dd>1</dd> <dt class=\"rui-icon rui-icon-car\"><span class=\"rui-visuallyhidden\">Car Spaces</span></dt> <dd>1</dd></dl>, <dl class=\"rui-property-features rui-clearfix\"><dt class=\"rui-icon rui-icon-bed\"><span class=\"rui-visuallyhidden\">Bedrooms</span></dt> <dd>1</dd> <dt class=\"rui-icon rui-icon-bath\"><span class=\"rui-visuallyhidden\">Bathrooms</span></dt> <dd>1</dd> <dt class=\"rui-icon rui-icon-car\"><span class=\"rui-visuallyhidden\">Car Spaces</span></dt> <dd>1</dd></dl>, <dl class=\"rui-property-features rui-clearfix\"><dt class=\"rui-icon rui-icon-bed\"><span class=\"rui-visuallyhidden\">Bedrooms</span></dt> <dd>2</dd> <dt class=\"rui-icon rui-icon-bath\"><span class=\"rui-visuallyhidden\">Bathrooms</span></dt> <dd>2</dd> <dt class=\"rui-icon rui-icon-car\"><span class=\"rui-visuallyhidden\">Car Spaces</span></dt> <dd>1</dd></dl>, <dl class=\"rui-property-features rui-clearfix\"><dt class=\"rui-icon rui-icon-bath\"><span class=\"rui-visuallyhidden\">Bathrooms</span></dt> <dd>1</dd></dl>, <dl class=\"rui-property-features rui-clearfix\"><dt class=\"rui-icon rui-icon-bed\"><span class=\"rui-visuallyhidden\">Bedrooms</span></dt> <dd>1</dd> <dt class=\"rui-icon rui-icon-bath\"><span class=\"rui-visuallyhidden\">Bathrooms</span></dt> <dd>1</dd></dl>, <dl class=\"rui-property-features rui-clearfix\"><dt class=\"rui-icon rui-icon-bed\"><span class=\"rui-visuallyhidden\">Bedrooms</span></dt> <dd>2</dd> <dt class=\"rui-icon rui-icon-bath\"><span class=\"rui-visuallyhidden\">Bathrooms</span></dt> <dd>1</dd> <dt class=\"rui-icon rui-icon-car\"><span class=\"rui-visuallyhidden\">Car Spaces</span></dt> <dd>1</dd></dl>, <dl class=\"rui-property-features rui-clearfix\"><dt class=\"rui-icon rui-icon-bed\"><span class=\"rui-visuallyhidden\">Bedrooms</span></dt> <dd>2</dd> <dt class=\"rui-icon rui-icon-bath\"><span class=\"rui-visuallyhidden\">Bathrooms</span></dt> <dd>2</dd></dl>, <dl class=\"rui-property-features rui-clearfix\"><dt class=\"rui-icon rui-icon-bed\"><span class=\"rui-visuallyhidden\">Bedrooms</span></dt> <dd>1</dd> <dt class=\"rui-icon rui-icon-bath\"><span class=\"rui-visuallyhidden\">Bathrooms</span></dt> <dd>1</dd> <dt class=\"rui-icon rui-icon-car\"><span class=\"rui-visuallyhidden\">Car Spaces</span></dt> <dd>1</dd></dl>, <dl class=\"rui-property-features rui-clearfix\"><dt class=\"rui-icon rui-icon-bed\"><span class=\"rui-visuallyhidden\">Bedrooms</span></dt> <dd>1</dd> <dt class=\"rui-icon rui-icon-bath\"><span class=\"rui-visuallyhidden\">Bathrooms</span></dt> <dd>1</dd> <dt class=\"rui-icon rui-icon-car\"><span class=\"rui-visuallyhidden\">Car Spaces</span></dt> <dd>1</dd></dl>, <dl class=\"rui-property-features rui-clearfix\"><dt class=\"rui-icon rui-icon-bed\"><span class=\"rui-visuallyhidden\">Bedrooms</span></dt> <dd>1</dd> <dt class=\"rui-icon rui-icon-bath\"><span class=\"rui-visuallyhidden\">Bathrooms</span></dt> <dd>1</dd></dl>, <dl class=\"rui-property-features rui-clearfix\"><dt class=\"rui-icon rui-icon-bed\"><span class=\"rui-visuallyhidden\">Bedrooms</span></dt> <dd>1</dd> <dt class=\"rui-icon rui-icon-bath\"><span class=\"rui-visuallyhidden\">Bathrooms</span></dt> <dd>1</dd></dl>, <dl class=\"rui-property-features rui-clearfix\"><dt class=\"rui-icon rui-icon-bed\"><span class=\"rui-visuallyhidden\">Bedrooms</span></dt> <dd>1</dd> <dt class=\"rui-icon rui-icon-bath\"><span class=\"rui-visuallyhidden\">Bathrooms</span></dt> <dd>1</dd></dl>, <dl class=\"rui-property-features rui-clearfix\"><dt class=\"rui-icon rui-icon-bed\"><span class=\"rui-visuallyhidden\">Bedrooms</span></dt> <dd>2</dd> <dt class=\"rui-icon rui-icon-bath\"><span class=\"rui-visuallyhidden\">Bathrooms</span></dt> <dd>2</dd></dl>, <dl class=\"rui-property-features rui-clearfix\"><dt class=\"rui-icon rui-icon-bed\"><span class=\"rui-visuallyhidden\">Bedrooms</span></dt> <dd>3</dd> <dt class=\"rui-icon rui-icon-bath\"><span class=\"rui-visuallyhidden\">Bathrooms</span></dt> <dd>2</dd> <dt class=\"rui-icon rui-icon-car\"><span class=\"rui-visuallyhidden\">Car Spaces</span></dt> <dd>1</dd></dl>, <dl class=\"rui-property-features rui-clearfix\"><dt class=\"rui-icon rui-icon-bed\"><span class=\"rui-visuallyhidden\">Bedrooms</span></dt> <dd>2</dd> <dt class=\"rui-icon rui-icon-bath\"><span class=\"rui-visuallyhidden\">Bathrooms</span></dt> <dd>2</dd> <dt class=\"rui-icon rui-icon-car\"><span class=\"rui-visuallyhidden\">Car Spaces</span></dt> <dd>1</dd></dl>, <dl class=\"rui-property-features rui-clearfix\"><dt class=\"rui-icon rui-icon-bed\"><span class=\"rui-visuallyhidden\">Bedrooms</span></dt> <dd>2</dd> <dt class=\"rui-icon rui-icon-bath\"><span class=\"rui-visuallyhidden\">Bathrooms</span></dt> <dd>2</dd> <dt class=\"rui-icon rui-icon-car\"><span class=\"rui-visuallyhidden\">Car Spaces</span></dt> <dd>1</dd></dl>]\n"
     ]
    }
   ],
   "source": [
    "html = driver.page_source\n",
    "html = BeautifulSoup(html, 'lxml')\n",
    "print (html.find_all('dl', {'class':'rui-property-features rui-clearfix'}))"
   ]
  },
  {
   "cell_type": "markdown",
   "metadata": {},
   "source": [
    "<dl class=\"rui-property-features rui-clearfix\"><dt class=\"rui-icon rui-icon-bed\"><span class=\"rui-visuallyhidden\">Bedrooms</span></dt> <dd>1</dd> <dt class=\"rui-icon rui-icon-bath\"><span class=\"rui-visuallyhidden\">Bathrooms</span></dt> <dd>1</dd> <dt class=\"rui-icon rui-icon-car\"><span class=\"rui-visuallyhidden\">Car Spaces</span></dt> <dd>1</dd></dl>, <dl class=\"rui-property-features rui-clearfix\"><dt class=\"rui-icon rui-icon-bed\"><span class=\"rui-visuallyhidden\">Bedrooms</span></dt> <dd>2</dd> <dt class=\"rui-icon rui-icon-bath\"><span class=\"rui-visuallyhidden\">Bathrooms</span></dt> <dd>2</dd> <dt class=\"rui-icon rui-icon-car\"><span class=\"rui-visuallyhidden\">Car Spaces</span></dt> <dd>1</dd></dl>, <dl class=\"rui-property-features rui-clearfix\"><dt class=\"rui-icon rui-icon-bed\"><span class=\"rui-visuallyhidden\">Bedrooms</span></dt> <dd>2</dd> <dt class=\"rui-icon rui-icon-bath\"><span class=\"rui-visuallyhidden\">Bathrooms</span></dt> <dd>2</dd> <dt class=\"rui-icon rui-icon-car\"><span class=\"rui-visuallyhidden\">Car Spaces</span></dt> <dd>1</dd></dl>, <dl class=\"rui-property-features rui-clearfix\"><dt class=\"rui-icon rui-icon-bath\"><span class=\"rui-visuallyhidden\">Bathrooms</span></dt> <dd>1</dd> <dt class=\"rui-icon rui-icon-car\"><span class=\"rui-visuallyhidden\">Car Spaces</span></dt> <dd>1</dd></dl>, <dl class=\"rui-property-features rui-clearfix\"><dt class=\"rui-icon rui-icon-bed\"><span class=\"rui-visuallyhidden\">Bedrooms</span></dt> <dd>2</dd> <dt class=\"rui-icon rui-icon-bath\"><span class=\"rui-visuallyhidden\">Bathrooms</span></dt> <dd>2</dd> <dt class=\"rui-icon rui-icon-car\"><span class=\"rui-visuallyhidden\">Car Spaces</span></dt> <dd>1</dd></dl>, <dl class=\"rui-property-features rui-clearfix\"><dt class=\"rui-icon rui-icon-bed\"><span class=\"rui-visuallyhidden\">Bedrooms</span></dt> <dd>1</dd> <dt class=\"rui-icon rui-icon-bath\"><span class=\"rui-visuallyhidden\">Bathrooms</span></dt> <dd>1</dd> <dt class=\"rui-icon rui-icon-car\"><span class=\"rui-visuallyhidden\">Car Spaces</span></dt> <dd>1</dd></dl>, <dl class=\"rui-property-features rui-clearfix\"><dt class=\"rui-icon rui-icon-bed\"><span class=\"rui-visuallyhidden\">Bedrooms</span></dt> <dd>1</dd> <dt class=\"rui-icon rui-icon-bath\"><span class=\"rui-visuallyhidden\">Bathrooms</span></dt> <dd>1</dd> <dt class=\"rui-icon rui-icon-car\"><span class=\"rui-visuallyhidden\">Car Spaces</span></dt> <dd>1</dd></dl>, <dl class=\"rui-property-features rui-clearfix\"><dt class=\"rui-icon rui-icon-bed\"><span class=\"rui-visuallyhidden\">Bedrooms</span></dt> <dd>1</dd> <dt class=\"rui-icon rui-icon-bath\"><span class=\"rui-visuallyhidden\">Bathrooms</span></dt> <dd>1</dd> <dt class=\"rui-icon rui-icon-car\"><span class=\"rui-visuallyhidden\">Car Spaces</span></dt> <dd>1</dd></dl>, <dl class=\"rui-property-features rui-clearfix\"><dt class=\"rui-icon rui-icon-bed\"><span class=\"rui-visuallyhidden\">Bedrooms</span></dt> <dd>2</dd> <dt class=\"rui-icon rui-icon-bath\"><span class=\"rui-visuallyhidden\">Bathrooms</span></dt> <dd>2</dd> <dt class=\"rui-icon rui-icon-car\"><span class=\"rui-visuallyhidden\">Car Spaces</span></dt> <dd>1</dd></dl>, <dl class=\"rui-property-features rui-clearfix\"><dt class=\"rui-icon rui-icon-bath\"><span class=\"rui-visuallyhidden\">Bathrooms</span></dt> <dd>1</dd></dl>, <dl class=\"rui-property-features rui-clearfix\"><dt class=\"rui-icon rui-icon-bed\"><span class=\"rui-visuallyhidden\">Bedrooms</span></dt> <dd>1</dd> <dt class=\"rui-icon rui-icon-bath\"><span class=\"rui-visuallyhidden\">Bathrooms</span></dt> <dd>1</dd></dl>, <dl class=\"rui-property-features rui-clearfix\"><dt class=\"rui-icon rui-icon-bed\"><span class=\"rui-visuallyhidden\">Bedrooms</span></dt> <dd>2</dd> <dt class=\"rui-icon rui-icon-bath\"><span class=\"rui-visuallyhidden\">Bathrooms</span></dt> <dd>1</dd> <dt class=\"rui-icon rui-icon-car\"><span class=\"rui-visuallyhidden\">Car Spaces</span></dt> <dd>1</dd></dl>, <dl class=\"rui-property-features rui-clearfix\"><dt class=\"rui-icon rui-icon-bed\"><span class=\"rui-visuallyhidden\">Bedrooms</span></dt> <dd>2</dd> <dt class=\"rui-icon rui-icon-bath\"><span class=\"rui-visuallyhidden\">Bathrooms</span></dt> <dd>2</dd></dl>, <dl class=\"rui-property-features rui-clearfix\"><dt class=\"rui-icon rui-icon-bed\"><span class=\"rui-visuallyhidden\">Bedrooms</span></dt> <dd>1</dd> <dt class=\"rui-icon rui-icon-bath\"><span class=\"rui-visuallyhidden\">Bathrooms</span></dt> <dd>1</dd> <dt class=\"rui-icon rui-icon-car\"><span class=\"rui-visuallyhidden\">Car Spaces</span></dt> <dd>1</dd></dl>, <dl class=\"rui-property-features rui-clearfix\"><dt class=\"rui-icon rui-icon-bed\"><span class=\"rui-visuallyhidden\">Bedrooms</span></dt> <dd>1</dd> <dt class=\"rui-icon rui-icon-bath\"><span class=\"rui-visuallyhidden\">Bathrooms</span></dt> <dd>1</dd> <dt class=\"rui-icon rui-icon-car\"><span class=\"rui-visuallyhidden\">Car Spaces</span></dt> <dd>1</dd></dl>, <dl class=\"rui-property-features rui-clearfix\"><dt class=\"rui-icon rui-icon-bed\"><span class=\"rui-visuallyhidden\">Bedrooms</span></dt> <dd>1</dd> <dt class=\"rui-icon rui-icon-bath\"><span class=\"rui-visuallyhidden\">Bathrooms</span></dt> <dd>1</dd></dl>, <dl class=\"rui-property-features rui-clearfix\"><dt class=\"rui-icon rui-icon-bed\"><span class=\"rui-visuallyhidden\">Bedrooms</span></dt> <dd>1</dd> <dt class=\"rui-icon rui-icon-bath\"><span class=\"rui-visuallyhidden\">Bathrooms</span></dt> <dd>1</dd></dl>, <dl class=\"rui-property-features rui-clearfix\"><dt class=\"rui-icon rui-icon-bed\"><span class=\"rui-visuallyhidden\">Bedrooms</span></dt> <dd>1</dd> <dt class=\"rui-icon rui-icon-bath\"><span class=\"rui-visuallyhidden\">Bathrooms</span></dt> <dd>1</dd></dl>, <dl class=\"rui-property-features rui-clearfix\"><dt class=\"rui-icon rui-icon-bed\"><span class=\"rui-visuallyhidden\">Bedrooms</span></dt> <dd>2</dd> <dt class=\"rui-icon rui-icon-bath\"><span class=\"rui-visuallyhidden\">Bathrooms</span></dt> <dd>2</dd></dl>, <dl class=\"rui-property-features rui-clearfix\"><dt class=\"rui-icon rui-icon-bed\"><span class=\"rui-visuallyhidden\">Bedrooms</span></dt> <dd>3</dd> <dt class=\"rui-icon rui-icon-bath\"><span class=\"rui-visuallyhidden\">Bathrooms</span></dt> <dd>2</dd> <dt class=\"rui-icon rui-icon-car\"><span class=\"rui-visuallyhidden\">Car Spaces</span></dt> <dd>1</dd></dl>, <dl class=\"rui-property-features rui-clearfix\"><dt class=\"rui-icon rui-icon-bed\"><span class=\"rui-visuallyhidden\">Bedrooms</span></dt> <dd>2</dd> <dt class=\"rui-icon rui-icon-bath\"><span class=\"rui-visuallyhidden\">Bathrooms</span></dt> <dd>2</dd> <dt class=\"rui-icon rui-icon-car\"><span class=\"rui-visuallyhidden\">Car Spaces</span></dt> <dd>1</dd></dl>, <dl class=\"rui-property-features rui-clearfix\"><dt class=\"rui-icon rui-icon-bed\"><span class=\"rui-visuallyhidden\">Bedrooms</span></dt> <dd>2</dd> <dt class=\"rui-icon rui-icon-bath\"><span class=\"rui-visuallyhidden\">Bathrooms</span></dt> <dd>2</dd> <dt class=\"rui-icon rui-icon-car\"><span class=\"rui-visuallyhidden\">Car Spaces</span></dt> <dd>1</dd></dl>"
   ]
  },
  {
   "cell_type": "code",
   "execution_count": 13,
   "metadata": {
    "collapsed": false
   },
   "outputs": [
    {
     "name": "stdout",
     "output_type": "stream",
     "text": [
      "[550, 800.0, 0, 660, 0, 1600]\n"
     ]
    }
   ],
   "source": [
    "price = []\n",
    "mystr = ['$550', '$600 to $1000', '$srikanta', '$660', 'contact agent', '$1600 per week']\n",
    "for string in mystr:\n",
    "    if string.find('$') >= 0:\n",
    "        if string.find(' to ') >= 0:\n",
    "            prc = re.findall(r'\\d+(?:,\\d+)?',string)\n",
    "            prc = [x.replace(',','') for x in prc]\n",
    "            price.append(np.mean(list(map(int, prc))))\n",
    "        else:\n",
    "            prc = re.findall(r'\\d+(?:,\\d+)?', string)\n",
    "            if len(prc) != 0:\n",
    "                prc = [x.replace(',', '') for x in prc]\n",
    "                price.append(int(prc[0]))\n",
    "            else:\n",
    "                price.append(0)\n",
    "    else:\n",
    "        price.append(0)\n",
    "\n",
    "print (price)"
   ]
  }
 ],
 "metadata": {
  "kernelspec": {
   "display_name": "Python 3",
   "language": "python",
   "name": "python3"
  },
  "language_info": {
   "codemirror_mode": {
    "name": "ipython",
    "version": 3
   },
   "file_extension": ".py",
   "mimetype": "text/x-python",
   "name": "python",
   "nbconvert_exporter": "python",
   "pygments_lexer": "ipython3",
   "version": "3.6.0"
  }
 },
 "nbformat": 4,
 "nbformat_minor": 2
}
